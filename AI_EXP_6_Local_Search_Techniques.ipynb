{
  "nbformat": 4,
  "nbformat_minor": 0,
  "metadata": {
    "colab": {
      "provenance": [],
      "authorship_tag": "ABX9TyOdFeGCFo6yXhWF0lyE1ytD",
      "include_colab_link": true
    },
    "kernelspec": {
      "name": "python3",
      "display_name": "Python 3"
    },
    "language_info": {
      "name": "python"
    }
  },
  "cells": [
    {
      "cell_type": "markdown",
      "metadata": {
        "id": "view-in-github",
        "colab_type": "text"
      },
      "source": [
        "<a href=\"https://colab.research.google.com/github/ADVAIT135/Artificial-Intelligence-ELL703_TW/blob/main/AI_EXP_6_Local_Search_Techniques.ipynb\" target=\"_parent\"><img src=\"https://colab.research.google.com/assets/colab-badge.svg\" alt=\"Open In Colab\"/></a>"
      ]
    },
    {
      "cell_type": "markdown",
      "source": [
        "# **Name : ADVAIT GURUNATH CHAVAN, PRN : 4119008**\n",
        "\n",
        "# **Sem : 7**\n",
        "\n",
        "# **B.E. ELECTRONICS, Artificial Intelligence Lab, ELL703**\n",
        "\n",
        "# **Exp 6 : Implementation of Local Search Techniques**"
      ],
      "metadata": {
        "id": "wDa1BmYcDTVb"
      }
    },
    {
      "cell_type": "markdown",
      "source": [
        "## Hill Climb local search algorithm"
      ],
      "metadata": {
        "id": "Pr6By7q0E1TT"
      }
    },
    {
      "cell_type": "markdown",
      "source": [
        "### Importing the dependencies"
      ],
      "metadata": {
        "id": "kZffKP2oFUCC"
      }
    },
    {
      "cell_type": "code",
      "execution_count": 12,
      "metadata": {
        "id": "Q9AroQSH8Cfi"
      },
      "outputs": [],
      "source": [
        "from numpy import asarray\n",
        "from numpy.random import randn\n",
        "from numpy.random import rand\n",
        "from numpy.random import seed\n",
        "from matplotlib import pyplot\n",
        "from matplotlib.pyplot import figure"
      ]
    },
    {
      "cell_type": "markdown",
      "source": [
        "### Defining the objective function"
      ],
      "metadata": {
        "id": "xovMiQ4BFh_E"
      }
    },
    {
      "cell_type": "code",
      "source": [
        "def objective(x):\n",
        "                return x[0]**3.0"
      ],
      "metadata": {
        "id": "YfW2MdM9ED2Q"
      },
      "execution_count": 25,
      "outputs": []
    },
    {
      "cell_type": "markdown",
      "source": [
        "### Hill Climb Local Search Algorithm"
      ],
      "metadata": {
        "id": "uNaUCtnxFwWV"
      }
    },
    {
      "cell_type": "code",
      "source": [
        "def hillclimbing(objective, bounds, n_iterations, step_size):\n",
        "                # generate an initial point\n",
        "                solution = bounds[:, 0] + rand(len(bounds)) * (bounds[:, 1] - bounds[:, 0])\n",
        "                # evaluate the initial point\n",
        "                solution_eval = objective(solution)\n",
        "                # run the hill climb\n",
        "                scores = list()\n",
        "                scores.append(solution_eval)\n",
        "                for i in range(n_iterations):\n",
        "                                # take a step\n",
        "                                candidate = solution + randn(len(bounds)) * step_size\n",
        "                                # evaluate candidate point\n",
        "                                candidte_eval = objective(candidate)\n",
        "                                # check if we should keep the new point\n",
        "                                if candidte_eval <= solution_eval:\n",
        "                                                # store the new point\n",
        "                                                solution, solution_eval = candidate, candidte_eval\n",
        "                                                # keep track of scores\n",
        "                                                scores.append(solution_eval)\n",
        "                                                # report progress\n",
        "                                                print('>%d f(%s) = %.5f' % (i, solution, solution_eval))\n",
        "                return [solution, solution_eval, scores]\n",
        "\n",
        " "
      ],
      "metadata": {
        "id": "ZJsgBgYmFs4C"
      },
      "execution_count": 27,
      "outputs": []
    },
    {
      "cell_type": "markdown",
      "source": [
        "### Seeding the Pseudorandom generator"
      ],
      "metadata": {
        "id": "mGLy64utGH7H"
      }
    },
    {
      "cell_type": "code",
      "source": [
        "seed(5)"
      ],
      "metadata": {
        "id": "emvUntKRGERg"
      },
      "execution_count": 28,
      "outputs": []
    },
    {
      "cell_type": "markdown",
      "source": [
        "### Defining the range for input"
      ],
      "metadata": {
        "id": "Lc0l5CUMGX0i"
      }
    },
    {
      "cell_type": "code",
      "source": [
        "bounds = asarray([[-5.0, 5.0]])"
      ],
      "metadata": {
        "id": "U8Vl3iZPGSSB"
      },
      "execution_count": 29,
      "outputs": []
    },
    {
      "cell_type": "markdown",
      "source": [
        "### Defining the total number of iterations"
      ],
      "metadata": {
        "id": "oGkvn51LGfrm"
      }
    },
    {
      "cell_type": "code",
      "source": [
        "n_iterations = 100"
      ],
      "metadata": {
        "id": "t2BE5NPbGeP8"
      },
      "execution_count": 30,
      "outputs": []
    },
    {
      "cell_type": "markdown",
      "source": [
        "### Defining the maximum step size"
      ],
      "metadata": {
        "id": "KRTXKO6MGpgD"
      }
    },
    {
      "cell_type": "code",
      "source": [
        "step_size = 0.1"
      ],
      "metadata": {
        "id": "CC-y5wQ7GnZI"
      },
      "execution_count": 31,
      "outputs": []
    },
    {
      "cell_type": "markdown",
      "source": [
        "### Executing the Hill Climb Search algorithm"
      ],
      "metadata": {
        "id": "3L96dKd-GxOi"
      }
    },
    {
      "cell_type": "code",
      "source": [
        "best, score, scores = hillclimbing(objective, bounds, n_iterations, step_size)\n",
        "print('Done!')\n",
        "print('f(%s) = %f' % (best, score))"
      ],
      "metadata": {
        "colab": {
          "base_uri": "https://localhost:8080/"
        },
        "id": "wITJxXgBGwSh",
        "outputId": "4d65c744-6cfe-4ff2-e442-97be37b7293c"
      },
      "execution_count": 32,
      "outputs": [
        {
          "output_type": "stream",
          "name": "stdout",
          "text": [
            ">0 f([-2.80946427]) = -22.17535\n",
            ">2 f([-2.81179464]) = -22.23058\n",
            ">6 f([-3.00037088]) = -27.01002\n",
            ">8 f([-3.04068022]) = -28.11333\n",
            ">10 f([-3.10121]) = -29.82590\n",
            ">11 f([-3.26065151]) = -34.66675\n",
            ">13 f([-3.40503566]) = -39.47890\n",
            ">16 f([-3.49606148]) = -42.73042\n",
            ">17 f([-3.59506337]) = -46.46433\n",
            ">18 f([-3.67681819]) = -49.70688\n",
            ">19 f([-3.79364613]) = -54.59721\n",
            ">20 f([-3.8147241]) = -55.51232\n",
            ">21 f([-3.83715406]) = -56.49730\n",
            ">23 f([-3.93343026]) = -60.85754\n",
            ">29 f([-3.93582233]) = -60.96863\n",
            ">31 f([-3.97540545]) = -62.82671\n",
            ">34 f([-4.02415554]) = -65.16648\n",
            ">35 f([-4.0257156]) = -65.24230\n",
            ">40 f([-4.05108489]) = -66.48352\n",
            ">41 f([-4.12517395]) = -70.19833\n",
            ">43 f([-4.17734002]) = -72.89529\n",
            ">44 f([-4.22676372]) = -75.51338\n",
            ">45 f([-4.34114772]) = -81.81137\n",
            ">47 f([-4.40627694]) = -85.54909\n",
            ">49 f([-4.5447464]) = -93.87046\n",
            ">51 f([-4.56576348]) = -95.17880\n",
            ">52 f([-4.63943158]) = -99.86063\n",
            ">53 f([-4.66784738]) = -101.70679\n",
            ">55 f([-4.9079011]) = -118.21903\n",
            ">56 f([-4.91911044]) = -119.03090\n",
            ">58 f([-4.92466916]) = -119.43488\n",
            ">59 f([-5.02446739]) = -126.84405\n",
            ">63 f([-5.04905275]) = -128.71517\n",
            ">65 f([-5.08347664]) = -131.36586\n",
            ">67 f([-5.08769328]) = -131.69302\n",
            ">68 f([-5.10847962]) = -133.31377\n",
            ">69 f([-5.2436977]) = -144.18263\n",
            ">70 f([-5.345775]) = -152.76787\n",
            ">73 f([-5.3674818]) = -154.63640\n",
            ">74 f([-5.37855141]) = -155.59512\n",
            ">76 f([-5.40822534]) = -158.18465\n",
            ">79 f([-5.49263365]) = -165.70740\n",
            ">86 f([-5.49961778]) = -166.34032\n",
            ">88 f([-5.51343986]) = -167.59765\n",
            ">89 f([-5.53557486]) = -169.62435\n",
            ">90 f([-5.59636851]) = -175.27457\n",
            ">91 f([-5.72050381]) = -187.19870\n",
            ">93 f([-5.7418832]) = -189.30543\n",
            ">94 f([-5.7572791]) = -190.83228\n",
            ">95 f([-5.76559282]) = -191.66019\n",
            ">96 f([-5.79145406]) = -194.25081\n",
            ">97 f([-5.80752767]) = -195.87268\n",
            ">98 f([-5.85444924]) = -200.65876\n",
            "Done!\n",
            "f([-5.85444924]) = -200.658765\n"
          ]
        }
      ]
    },
    {
      "cell_type": "markdown",
      "source": [
        "### Plotting the line plot of best scores"
      ],
      "metadata": {
        "id": "3vUnzciMHHcQ"
      }
    },
    {
      "cell_type": "code",
      "source": [
        "%matplotlib inline\n",
        "figure(figsize = (15,15))\n",
        "pyplot.rcParams.update({'font.size':20})\n",
        "pyplot.plot(scores, '.-')\n",
        "pyplot.xlabel('Improvement Number')\n",
        "pyplot.ylabel('Evaluation f(x)')"
      ],
      "metadata": {
        "colab": {
          "base_uri": "https://localhost:8080/",
          "height": 912
        },
        "id": "AkH3vNCcG5t2",
        "outputId": "3a538aeb-e6d0-4ad8-b221-4b13ac225a41"
      },
      "execution_count": 33,
      "outputs": [
        {
          "output_type": "execute_result",
          "data": {
            "text/plain": [
              "Text(0, 0.5, 'Evaluation f(x)')"
            ]
          },
          "metadata": {},
          "execution_count": 33
        },
        {
          "output_type": "display_data",
          "data": {
            "text/plain": [
              "<Figure size 1080x1080 with 1 Axes>"
            ],
            "image/png": "[encoded data removed]"
          },
          "metadata": {
            "needs_background": "light"
          }
        }
      ]
    },
    {
      "cell_type": "code",
      "source": [],
      "metadata": {
        "id": "KiJ_MvZlHRpU"
      },
      "execution_count": null,
      "outputs": []
    }
  ]
}